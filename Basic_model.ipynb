{
 "cells": [
  {
   "cell_type": "code",
   "execution_count": 1,
   "metadata": {},
   "outputs": [],
   "source": [
    "import torch\n",
    "import numpy as np\n",
    "import pandas as pd\n",
    "from torch import nn\n",
    "import torch.nn.functional as F"
   ]
  },
  {
   "cell_type": "code",
   "execution_count": 2,
   "metadata": {},
   "outputs": [],
   "source": [
    "import matplotlib.pyplot as plt\n",
    "import xgboost as xgb\n",
    "from sklearn.tree import DecisionTreeRegressor\n",
    "from sklearn.metrics import mean_squared_error"
   ]
  },
  {
   "cell_type": "code",
   "execution_count": 3,
   "metadata": {},
   "outputs": [],
   "source": [
    "np.random.seed(32)"
   ]
  },
  {
   "cell_type": "code",
   "execution_count": 4,
   "metadata": {},
   "outputs": [
    {
     "data": {
      "text/plain": [
       "array([[0.85888927],\n",
       "       [0.37271115],\n",
       "       [0.55512878],\n",
       "       [0.95565655],\n",
       "       [0.7366696 ],\n",
       "       [0.81620514],\n",
       "       [0.10108656],\n",
       "       [0.92848807],\n",
       "       [0.60910917],\n",
       "       [0.59655344],\n",
       "       [0.09178413],\n",
       "       [0.34518624],\n",
       "       [0.66275252],\n",
       "       [0.44171349],\n",
       "       [0.55148779],\n",
       "       [0.70371249],\n",
       "       [0.58940123],\n",
       "       [0.04993276],\n",
       "       [0.56179184],\n",
       "       [0.76635847],\n",
       "       [0.91090833],\n",
       "       [0.09290995],\n",
       "       [0.90252139],\n",
       "       [0.46096041],\n",
       "       [0.45201847],\n",
       "       [0.99942549],\n",
       "       [0.16242374],\n",
       "       [0.70937058],\n",
       "       [0.16062408],\n",
       "       [0.81077677],\n",
       "       [0.03514717],\n",
       "       [0.53488673],\n",
       "       [0.16650012],\n",
       "       [0.30841038],\n",
       "       [0.04506241],\n",
       "       [0.23857613],\n",
       "       [0.67483453],\n",
       "       [0.78238275],\n",
       "       [0.69520163],\n",
       "       [0.32895445],\n",
       "       [0.49403187],\n",
       "       [0.52412136],\n",
       "       [0.29854125],\n",
       "       [0.46310814],\n",
       "       [0.98478429],\n",
       "       [0.50113492],\n",
       "       [0.39807245],\n",
       "       [0.72790532],\n",
       "       [0.86333097],\n",
       "       [0.02616954],\n",
       "       [0.29001718],\n",
       "       [0.78906919],\n",
       "       [0.45711967],\n",
       "       [0.00692848],\n",
       "       [0.41933546],\n",
       "       [0.33067476],\n",
       "       [0.60415213],\n",
       "       [0.32462084],\n",
       "       [0.98125108],\n",
       "       [0.58823195],\n",
       "       [0.13109195],\n",
       "       [0.5209777 ],\n",
       "       [0.3579784 ],\n",
       "       [0.01499998],\n",
       "       [0.09642991],\n",
       "       [0.78423479],\n",
       "       [0.42700304],\n",
       "       [0.19795182],\n",
       "       [0.62410153],\n",
       "       [0.64028894],\n",
       "       [0.27070275],\n",
       "       [0.12981778],\n",
       "       [0.47272312],\n",
       "       [0.39062648],\n",
       "       [0.40508012],\n",
       "       [0.37614904],\n",
       "       [0.29217475],\n",
       "       [0.55288259],\n",
       "       [0.43118561],\n",
       "       [0.78376163],\n",
       "       [0.7007732 ],\n",
       "       [0.77640946],\n",
       "       [0.28782955],\n",
       "       [0.21031455],\n",
       "       [0.50411352],\n",
       "       [0.13312513],\n",
       "       [0.17136387],\n",
       "       [0.24546422],\n",
       "       [0.04266354],\n",
       "       [0.22638685],\n",
       "       [0.62573212],\n",
       "       [0.63432303],\n",
       "       [0.53293968],\n",
       "       [0.73538555],\n",
       "       [0.81516559],\n",
       "       [0.37485618],\n",
       "       [0.80492251],\n",
       "       [0.8796494 ],\n",
       "       [0.58688924],\n",
       "       [0.65584735]])"
      ]
     },
     "execution_count": 4,
     "metadata": {},
     "output_type": "execute_result"
    }
   ],
   "source": [
    "x=np.random.rand(100,1)\n",
    "x"
   ]
  },
  {
   "cell_type": "code",
   "execution_count": 5,
   "metadata": {},
   "outputs": [
    {
     "data": {
      "text/plain": [
       "array([[2.63663582],\n",
       "       [1.59309636],\n",
       "       [2.08015811],\n",
       "       [2.872252  ],\n",
       "       [2.52014291],\n",
       "       [2.78376512],\n",
       "       [1.24463713],\n",
       "       [2.86921076],\n",
       "       [2.07945363],\n",
       "       [2.14640276],\n",
       "       [1.31092793],\n",
       "       [1.70254465],\n",
       "       [2.20375862],\n",
       "       [1.92375579],\n",
       "       [1.95566606],\n",
       "       [2.32667819],\n",
       "       [2.07552686],\n",
       "       [1.18515   ],\n",
       "       [2.04407776],\n",
       "       [2.6259329 ],\n",
       "       [2.99193315],\n",
       "       [1.19727387],\n",
       "       [2.77697331],\n",
       "       [1.80594109],\n",
       "       [2.10481119],\n",
       "       [2.99813858],\n",
       "       [1.38428777],\n",
       "       [2.42741892],\n",
       "       [1.29022693],\n",
       "       [2.66026439],\n",
       "       [0.93912722],\n",
       "       [2.25659557],\n",
       "       [1.27462106],\n",
       "       [1.61045473],\n",
       "       [1.09052032],\n",
       "       [1.45379501],\n",
       "       [2.48115124],\n",
       "       [2.378242  ],\n",
       "       [2.42931842],\n",
       "       [1.80388692],\n",
       "       [1.95203181],\n",
       "       [2.00297348],\n",
       "       [1.73466535],\n",
       "       [1.91162355],\n",
       "       [2.82012328],\n",
       "       [2.17722738],\n",
       "       [1.94106203],\n",
       "       [2.35512863],\n",
       "       [2.85251874],\n",
       "       [1.10525377],\n",
       "       [1.52861089],\n",
       "       [2.34026402],\n",
       "       [1.9499489 ],\n",
       "       [1.16519257],\n",
       "       [1.78001639],\n",
       "       [1.59218405],\n",
       "       [2.17832156],\n",
       "       [1.61454282],\n",
       "       [3.02153469],\n",
       "       [2.3524192 ],\n",
       "       [1.18180481],\n",
       "       [2.09441855],\n",
       "       [1.83743837],\n",
       "       [1.02263036],\n",
       "       [1.29753507],\n",
       "       [2.58308795],\n",
       "       [1.93368541],\n",
       "       [1.35250943],\n",
       "       [2.16262266],\n",
       "       [2.41184172],\n",
       "       [1.66233739],\n",
       "       [1.23356724],\n",
       "       [1.99381114],\n",
       "       [1.60735183],\n",
       "       [1.76494489],\n",
       "       [1.70289411],\n",
       "       [1.85794866],\n",
       "       [2.0863246 ],\n",
       "       [1.9232436 ],\n",
       "       [2.71672347],\n",
       "       [2.411013  ],\n",
       "       [2.56197305],\n",
       "       [1.59749036],\n",
       "       [1.50457213],\n",
       "       [2.04736031],\n",
       "       [1.22732562],\n",
       "       [1.25312906],\n",
       "       [1.38373653],\n",
       "       [1.05073373],\n",
       "       [1.40190003],\n",
       "       [2.0964952 ],\n",
       "       [2.32444922],\n",
       "       [2.08372819],\n",
       "       [2.45751823],\n",
       "       [2.73925375],\n",
       "       [1.8475205 ],\n",
       "       [2.672905  ],\n",
       "       [2.7684366 ],\n",
       "       [2.18256406],\n",
       "       [2.3418355 ]])"
      ]
     },
     "execution_count": 5,
     "metadata": {},
     "output_type": "execute_result"
    }
   ],
   "source": [
    "y=1+2*x+.1*np.random.randn(100,1)\n",
    "y"
   ]
  },
  {
   "cell_type": "code",
   "execution_count": 6,
   "metadata": {},
   "outputs": [
    {
     "data": {
      "text/plain": [
       "array([ 0,  1,  2,  3,  4,  5,  6,  7,  8,  9, 10, 11, 12, 13, 14, 15, 16,\n",
       "       17, 18, 19, 20, 21, 22, 23, 24, 25, 26, 27, 28, 29, 30, 31, 32, 33,\n",
       "       34, 35, 36, 37, 38, 39, 40, 41, 42, 43, 44, 45, 46, 47, 48, 49, 50,\n",
       "       51, 52, 53, 54, 55, 56, 57, 58, 59, 60, 61, 62, 63, 64, 65, 66, 67,\n",
       "       68, 69, 70, 71, 72, 73, 74, 75, 76, 77, 78, 79, 80, 81, 82, 83, 84,\n",
       "       85, 86, 87, 88, 89, 90, 91, 92, 93, 94, 95, 96, 97, 98, 99])"
      ]
     },
     "execution_count": 6,
     "metadata": {},
     "output_type": "execute_result"
    }
   ],
   "source": [
    "idx=np.arange(100)\n",
    "idx"
   ]
  },
  {
   "cell_type": "code",
   "execution_count": 7,
   "metadata": {},
   "outputs": [
    {
     "data": {
      "text/plain": [
       "array([63, 52,  8, 88, 57, 50, 17, 68, 65, 42,  3, 99, 96, 91, 56,  2, 54,\n",
       "       79, 77, 16, 32, 13,  0, 64, 76,  5, 93, 11, 90, 19, 85, 59, 71, 47,\n",
       "       20, 30, 39, 75, 41, 37, 92, 44, 69, 60, 34, 14, 28, 33, 83, 70,  9,\n",
       "       21, 61, 48, 98, 66, 86, 25, 29,  4, 45, 51, 40, 55, 67, 82, 78, 87,\n",
       "       27, 73, 31, 10, 36, 62, 53, 80, 26, 97, 72, 22, 38, 46, 89, 95, 43,\n",
       "       94, 74, 49, 35,  1, 12, 58, 84, 24, 15,  7, 81,  6, 18, 23])"
      ]
     },
     "execution_count": 7,
     "metadata": {},
     "output_type": "execute_result"
    }
   ],
   "source": [
    "np.random.shuffle(idx)\n",
    "idx"
   ]
  },
  {
   "cell_type": "code",
   "execution_count": 8,
   "metadata": {},
   "outputs": [],
   "source": [
    "train_idx=idx[:80]\n",
    "val_idx=idx[80:]"
   ]
  },
  {
   "cell_type": "code",
   "execution_count": 9,
   "metadata": {},
   "outputs": [],
   "source": [
    "x_train,y_train=x[train_idx],y[train_idx]\n",
    "x_val,y_val= x[val_idx], y[val_idx]"
   ]
  },
  {
   "cell_type": "code",
   "execution_count": 10,
   "metadata": {},
   "outputs": [
    {
     "data": {
      "text/plain": [
       "<matplotlib.collections.PathCollection at 0x2c5d8d8b3c8>"
      ]
     },
     "execution_count": 10,
     "metadata": {},
     "output_type": "execute_result"
    },
    {
     "data": {
      "image/png": "[encoded data removed]",
      "text/plain": [
       "<Figure size 432x288 with 1 Axes>"
      ]
     },
     "metadata": {},
     "output_type": "display_data"
    }
   ],
   "source": [
    "plt.scatter(x_train,y_train)"
   ]
  },
  {
   "cell_type": "code",
   "execution_count": 11,
   "metadata": {},
   "outputs": [
    {
     "data": {
      "text/plain": [
       "<matplotlib.collections.PathCollection at 0x2c5d8e0fa20>"
      ]
     },
     "execution_count": 11,
     "metadata": {},
     "output_type": "execute_result"
    },
    {
     "data": {
      "image/png": "[encoded data removed]",
      "text/plain": [
       "<Figure size 432x288 with 1 Axes>"
      ]
     },
     "metadata": {},
     "output_type": "display_data"
    }
   ],
   "source": [
    "plt.scatter(x_val,y_val)"
   ]
  },
  {
   "cell_type": "code",
   "execution_count": 12,
   "metadata": {},
   "outputs": [
    {
     "name": "stdout",
     "output_type": "stream",
     "text": [
      "[11:53:27] WARNING: C:/Jenkins/workspace/xgboost-win64_release_0.90/src/objective/regression_obj.cu:152: reg:linear is now deprecated in favor of reg:squarederror.\n",
      "using xgboost 0.012290153919242413\n",
      "using decision tree 0.01863214977920835\n"
     ]
    }
   ],
   "source": [
    "model1 = xgb.XGBRegressor()\n",
    "model1.fit(x_train,y_train)\n",
    "pred1=model1.predict(x_val)\n",
    "mse1=mean_squared_error(y_val,pred1)\n",
    "print('using xgboost', mse1)\n",
    "\n",
    "model2=DecisionTreeRegressor()\n",
    "model2.fit(x_train,y_train)\n",
    "pred2=model2.predict(x_val)\n",
    "mse2=mean_squared_error(y_val,pred2)\n",
    "print('using decision tree',mse2)"
   ]
  },
  {
   "cell_type": "code",
   "execution_count": 13,
   "metadata": {},
   "outputs": [
    {
     "data": {
      "text/plain": [
       "(array([0.49671415]), array([-0.1382643]))"
      ]
     },
     "execution_count": 13,
     "metadata": {},
     "output_type": "execute_result"
    }
   ],
   "source": [
    "np.random.seed(42)\n",
    "a=np.random.randn(1)\n",
    "b=np.random.randn(1)\n",
    "a,b"
   ]
  },
  {
   "cell_type": "code",
   "execution_count": 26,
   "metadata": {},
   "outputs": [],
   "source": [
    "lr=1e-1\n",
    "n_epochs=1000"
   ]
  },
  {
   "cell_type": "code",
   "execution_count": 27,
   "metadata": {},
   "outputs": [
    {
     "data": {
      "text/plain": [
       "(array([1.01935385]), array([1.98064024]))"
      ]
     },
     "execution_count": 27,
     "metadata": {},
     "output_type": "execute_result"
    }
   ],
   "source": [
    "c=0\n",
    "for epoch in range(n_epochs):\n",
    "    yhat=a+b*x_train\n",
    "    error=(y_train-yhat)\n",
    "    loss=(error**2).mean()\n",
    "    \n",
    "    a_grad=-2*error.mean()\n",
    "    b_grad=-2*(x_train*error).mean()\n",
    "    \n",
    "    a=a-lr*a_grad\n",
    "    b=b-lr*b_grad\n",
    "\n",
    "a,b"
   ]
  },
  {
   "cell_type": "code",
   "execution_count": 28,
   "metadata": {},
   "outputs": [
    {
     "name": "stdout",
     "output_type": "stream",
     "text": [
      "[1.01935385] [1.98064024]\n"
     ]
    }
   ],
   "source": [
    "from sklearn.linear_model import LinearRegression\n",
    "linr = LinearRegression()\n",
    "linr.fit(x_train, y_train)\n",
    "print(linr.intercept_, linr.coef_[0])"
   ]
  },
  {
   "cell_type": "code",
   "execution_count": 31,
   "metadata": {},
   "outputs": [],
   "source": [
    "import torch \n",
    "import torch.optim as optim\n",
    "import torch.nn as nn\n",
    "from torchviz import make_dot"
   ]
  },
  {
   "cell_type": "code",
   "execution_count": 33,
   "metadata": {},
   "outputs": [],
   "source": [
    "device= 'cuda' if torch.cuda.is_available() else 'cpu'"
   ]
  },
  {
   "cell_type": "code",
   "execution_count": 34,
   "metadata": {},
   "outputs": [],
   "source": [
    "x_train_tensor=torch.from_numpy(x_train).float().to(device)\n",
    "y_train_tensor=torch.from_numpy(y_train).float().to(device)"
   ]
  },
  {
   "cell_type": "code",
   "execution_count": 39,
   "metadata": {},
   "outputs": [
    {
     "data": {
      "text/plain": [
       "(tensor([[0.0150],\n",
       "         [0.4571],\n",
       "         [0.6091],\n",
       "         [0.0427],\n",
       "         [0.3246],\n",
       "         [0.2900],\n",
       "         [0.0499],\n",
       "         [0.6241],\n",
       "         [0.7842],\n",
       "         [0.2985]], device='cuda:0'), array([[0.01499998],\n",
       "        [0.45711967],\n",
       "        [0.60910917],\n",
       "        [0.04266354],\n",
       "        [0.32462084],\n",
       "        [0.29001718],\n",
       "        [0.04993276],\n",
       "        [0.62410153],\n",
       "        [0.78423479],\n",
       "        [0.29854125]]))"
      ]
     },
     "execution_count": 39,
     "metadata": {},
     "output_type": "execute_result"
    }
   ],
   "source": [
    "x_train_tensor[:10], x_train[0:10]"
   ]
  },
  {
   "cell_type": "code",
   "execution_count": 44,
   "metadata": {},
   "outputs": [
    {
     "data": {
      "text/plain": [
       "(numpy.ndarray, torch.Tensor, 'torch.cuda.FloatTensor')"
      ]
     },
     "execution_count": 44,
     "metadata": {},
     "output_type": "execute_result"
    }
   ],
   "source": [
    "type(x_train), type(x_train_tensor), y_train_tensor.type()"
   ]
  },
  {
   "cell_type": "code",
   "execution_count": null,
   "metadata": {},
   "outputs": [],
   "source": []
  },
  {
   "cell_type": "code",
   "execution_count": null,
   "metadata": {},
   "outputs": [],
   "source": []
  }
 ],
 "metadata": {
  "kernelspec": {
   "display_name": "Python 3",
   "language": "python",
   "name": "python3"
  },
  "language_info": {
   "codemirror_mode": {
    "name": "ipython",
    "version": 3
   },
   "file_extension": ".py",
   "mimetype": "text/x-python",
   "name": "python",
   "nbconvert_exporter": "python",
   "pygments_lexer": "ipython3",
   "version": "3.6.5"
  }
 },
 "nbformat": 4,
 "nbformat_minor": 2
}
