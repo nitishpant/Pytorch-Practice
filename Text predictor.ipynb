{
 "cells": [
  {
   "cell_type": "code",
   "execution_count": 1,
   "metadata": {},
   "outputs": [],
   "source": [
    "import numpy as np\n",
    "import torch \n",
    "from torch import nn\n",
    "import torch.nn.functional as F"
   ]
  },
  {
   "cell_type": "code",
   "execution_count": 2,
   "metadata": {},
   "outputs": [],
   "source": [
    "with open('data/anna.txt','r') as f:\n",
    "    text=f.read()"
   ]
  },
  {
   "cell_type": "code",
   "execution_count": 6,
   "metadata": {},
   "outputs": [
    {
     "data": {
      "text/plain": [
       "'Chapter 1\\n\\n\\nHappy families are all alike; every unhappy family is unhappy in its own\\nway.\\n\\nEverythin'"
      ]
     },
     "execution_count": 6,
     "metadata": {},
     "output_type": "execute_result"
    }
   ],
   "source": [
    "text[:100]"
   ]
  },
  {
   "cell_type": "code",
   "execution_count": 8,
   "metadata": {},
   "outputs": [],
   "source": [
    "#tokenization\n",
    "\n",
    "chars=tuple(set(text))\n",
    "int2char=dict(enumerate(chars))\n",
    "char2int= {ch: ii for ii,ch in int2char.items()}\n",
    "\n",
    "encoded =np.array([char2int[ch] for ch in text])\n",
    "\n"
   ]
  },
  {
   "cell_type": "code",
   "execution_count": 9,
   "metadata": {},
   "outputs": [
    {
     "data": {
      "text/plain": [
       "dict_items([(0, '6'), (1, 'o'), (2, ';'), (3, 'W'), (4, '?'), (5, '2'), (6, '/'), (7, 'R'), (8, 'S'), (9, ','), (10, '_'), (11, 'Q'), (12, '`'), (13, '*'), (14, '@'), (15, 'p'), (16, 'E'), (17, '7'), (18, 'e'), (19, 'l'), (20, '-'), (21, '('), (22, 'L'), (23, '!'), (24, 'A'), (25, 'O'), (26, '3'), (27, 's'), (28, 'K'), (29, ' '), (30, 'q'), (31, 'm'), (32, '\"'), (33, 'j'), (34, 'k'), (35, \"'\"), (36, 'y'), (37, 'i'), (38, 'F'), (39, 'M'), (40, '&'), (41, '9'), (42, 'n'), (43, ')'), (44, '1'), (45, 'c'), (46, 't'), (47, 'g'), (48, 'd'), (49, 'f'), (50, 'G'), (51, ':'), (52, 'T'), (53, 'I'), (54, 'v'), (55, '4'), (56, '8'), (57, 'Y'), (58, '%'), (59, '\\n'), (60, 'H'), (61, '0'), (62, 'u'), (63, 'b'), (64, '5'), (65, 'Z'), (66, 'N'), (67, 'P'), (68, 'h'), (69, 'C'), (70, 'w'), (71, 'B'), (72, 'r'), (73, '$'), (74, '.'), (75, 'D'), (76, 'a'), (77, 'z'), (78, 'x'), (79, 'J'), (80, 'X'), (81, 'U'), (82, 'V')])"
      ]
     },
     "execution_count": 9,
     "metadata": {},
     "output_type": "execute_result"
    }
   ],
   "source": [
    "int2char.items()"
   ]
  },
  {
   "cell_type": "code",
   "execution_count": 10,
   "metadata": {},
   "outputs": [
    {
     "data": {
      "text/plain": [
       "array([69, 68, 76, 15, 46, 18, 72, 29, 44, 59, 59, 59, 60, 76, 15, 15, 36,\n",
       "       29, 49, 76, 31, 37, 19, 37, 18, 27, 29, 76, 72, 18, 29, 76, 19, 19,\n",
       "       29, 76, 19, 37, 34, 18,  2, 29, 18, 54, 18, 72, 36, 29, 62, 42, 68,\n",
       "       76, 15, 15, 36, 29, 49, 76, 31, 37, 19, 36, 29, 37, 27, 29, 62, 42,\n",
       "       68, 76, 15, 15, 36, 29, 37, 42, 29, 37, 46, 27, 29,  1, 70, 42, 59,\n",
       "       70, 76, 36, 74, 59, 59, 16, 54, 18, 72, 36, 46, 68, 37, 42])"
      ]
     },
     "execution_count": 10,
     "metadata": {},
     "output_type": "execute_result"
    }
   ],
   "source": [
    "encoded[:100]"
   ]
  },
  {
   "cell_type": "code",
   "execution_count": 15,
   "metadata": {},
   "outputs": [
    {
     "data": {
      "text/plain": [
       "dict_items([('6', 0), ('o', 1), (';', 2), ('W', 3), ('?', 4), ('2', 5), ('/', 6), ('R', 7), ('S', 8), (',', 9), ('_', 10), ('Q', 11), ('`', 12), ('*', 13), ('@', 14), ('p', 15), ('E', 16), ('7', 17), ('e', 18), ('l', 19), ('-', 20), ('(', 21), ('L', 22), ('!', 23), ('A', 24), ('O', 25), ('3', 26), ('s', 27), ('K', 28), (' ', 29), ('q', 30), ('m', 31), ('\"', 32), ('j', 33), ('k', 34), (\"'\", 35), ('y', 36), ('i', 37), ('F', 38), ('M', 39), ('&', 40), ('9', 41), ('n', 42), (')', 43), ('1', 44), ('c', 45), ('t', 46), ('g', 47), ('d', 48), ('f', 49), ('G', 50), (':', 51), ('T', 52), ('I', 53), ('v', 54), ('4', 55), ('8', 56), ('Y', 57), ('%', 58), ('\\n', 59), ('H', 60), ('0', 61), ('u', 62), ('b', 63), ('5', 64), ('Z', 65), ('N', 66), ('P', 67), ('h', 68), ('C', 69), ('w', 70), ('B', 71), ('r', 72), ('$', 73), ('.', 74), ('D', 75), ('a', 76), ('z', 77), ('x', 78), ('J', 79), ('X', 80), ('U', 81), ('V', 82)])"
      ]
     },
     "execution_count": 15,
     "metadata": {},
     "output_type": "execute_result"
    }
   ],
   "source": [
    "char2int.items()"
   ]
  },
  {
   "cell_type": "code",
   "execution_count": 18,
   "metadata": {},
   "outputs": [],
   "source": [
    "# pre processing \n",
    "def one_hot_encode(arr,n_labels):\n",
    "    one_hot=np.zeros((arr.size,n_labels),dtype=np.float32)\n",
    "    one_hot[np.arange(one_hot.shape[0]),arr.flatten()]=1.\n",
    "    one_hot=one_hot.reshape((*arr.shape, n_labels))\n",
    "    return one_hot"
   ]
  },
  {
   "cell_type": "code",
   "execution_count": 19,
   "metadata": {},
   "outputs": [
    {
     "name": "stdout",
     "output_type": "stream",
     "text": [
      "[[3 4 1 4]]\n",
      "[[[0. 0. 0. 1. 0. 0. 0. 0.]\n",
      "  [0. 0. 0. 0. 1. 0. 0. 0.]\n",
      "  [0. 1. 0. 0. 0. 0. 0. 0.]\n",
      "  [0. 0. 0. 0. 1. 0. 0. 0.]]]\n"
     ]
    }
   ],
   "source": [
    "#testing function\n",
    "test_seq=np.array([[3,4,1,4]])\n",
    "one_hot=one_hot_encode(test_seq,8)\n",
    "print(test_seq)\n",
    "print(one_hot)"
   ]
  },
  {
   "cell_type": "code",
   "execution_count": null,
   "metadata": {},
   "outputs": [],
   "source": []
  }
 ],
 "metadata": {
  "kernelspec": {
   "display_name": "Python 3",
   "language": "python",
   "name": "python3"
  },
  "language_info": {
   "codemirror_mode": {
    "name": "ipython",
    "version": 3
   },
   "file_extension": ".py",
   "mimetype": "text/x-python",
   "name": "python",
   "nbconvert_exporter": "python",
   "pygments_lexer": "ipython3",
   "version": "3.6.5"
  }
 },
 "nbformat": 4,
 "nbformat_minor": 2
}
