{
 "cells": [
  {
   "cell_type": "code",
   "execution_count": 1,
   "metadata": {},
   "outputs": [],
   "source": [
    "import numpy as np\n",
    "import matplotlib.pyplot as plt\n",
    "import torch\n",
    "from torch import nn\n"
   ]
  },
  {
   "cell_type": "code",
   "execution_count": 16,
   "metadata": {},
   "outputs": [
    {
     "data": {
      "image/png": "[encoded data removed]",
      "text/plain": [
       "<Figure size 576x360 with 1 Axes>"
      ]
     },
     "metadata": {},
     "output_type": "display_data"
    }
   ],
   "source": [
    "plt.figure(figsize=(8,5))\n",
    "\n",
    "seq_length=30\n",
    "\n",
    "time_steps=np.linspace(0,np.pi,seq_length+1)\n",
    "data=np.sin(time_steps)\n",
    "data.resize((seq_length+1,1))\n",
    "\n",
    "x=data[:-1]\n",
    "y=data[1:]\n",
    "\n",
    "plt.plot(time_steps[1:],x,'r.',label='input,x')\n",
    "plt.plot(time_steps[1:],y,'b.',label='target,y')\n",
    "\n",
    "plt.legend(loc='best')\n",
    "plt.show()\n",
    "\n"
   ]
  },
  {
   "cell_type": "code",
   "execution_count": 18,
   "metadata": {},
   "outputs": [],
   "source": [
    "class RNN(nn.Module):\n",
    "    def __init__(self,input_size,output_size,hidden_dim,n_layers):\n",
    "        super(RNN,self).__init__()\n",
    "        \n",
    "        self.hidden_dim=hidden_dim\n",
    "        \n",
    "        self.rnn=nn.RNN(input_size,hidden_dim,n_layers,batch_first=True)\n",
    "        \n",
    "        self.fc=nn.Linear(hidden_dim, output_size)\n",
    "        \n",
    "    def forward(self, x, hidden):\n",
    "        batch_size = x.size(0)\n",
    "        \n",
    "        r_out,hidden= self.rnn(x,hidden)\n",
    "        r_out=r_out.view(-1,self.hidden_dim)\n",
    "        \n",
    "        output=self.fc(r_out)\n",
    "        \n",
    "        return output,hidden"
   ]
  },
  {
   "cell_type": "code",
   "execution_count": 24,
   "metadata": {},
   "outputs": [
    {
     "name": "stdout",
     "output_type": "stream",
     "text": [
      "Input Size: torch.Size([1, 30, 1])\n",
      "Output size: torch.Size([30, 1])\n",
      "Hidden state size:  torch.Size([2, 1, 10])\n"
     ]
    }
   ],
   "source": [
    "test_rnn= RNN(input_size=1,output_size=1,hidden_dim=10,n_layers=2)\n",
    "\n",
    "time_steps=np.linspace(0,np.pi,seq_length)\n",
    "data=np.sin(time_steps)\n",
    "data.resize((seq_length, 1))\n",
    "\n",
    "test_input = torch.Tensor(data).unsqueeze(0)\n",
    "print('Input Size:',test_input.size())\n",
    "\n",
    "test_out,test_h = test_rnn(test_input, None)\n",
    "print('Output size:', test_out.size())\n",
    "print('Hidden state size: ', test_h.size())"
   ]
  },
  {
   "cell_type": "code",
   "execution_count": 25,
   "metadata": {},
   "outputs": [
    {
     "name": "stdout",
     "output_type": "stream",
     "text": [
      "RNN(\n",
      "  (rnn): RNN(1, 32, batch_first=True)\n",
      "  (fc): Linear(in_features=32, out_features=1, bias=True)\n",
      ")\n"
     ]
    }
   ],
   "source": [
    "input_size =1\n",
    "output_size=1\n",
    "hidden_dim=32\n",
    "n_layers=1\n",
    "\n",
    "rnn=RNN(input_size,output_size,hidden_dim,n_layers)\n",
    "print(rnn)"
   ]
  },
  {
   "cell_type": "code",
   "execution_count": 26,
   "metadata": {},
   "outputs": [],
   "source": [
    "criterion=nn.MSELoss()\n",
    "optimizer = torch.optim.Adam(rnn.parameters(),lr=0.01)"
   ]
  },
  {
   "cell_type": "code",
   "execution_count": 29,
   "metadata": {},
   "outputs": [],
   "source": [
    "def train(rnn,n_steps,print_every):\n",
    "    hidden=None\n",
    "    \n",
    "    for batch_i, step in enumerate(range(n_steps)):\n",
    "        time_steps=np.linspace(step*np.pi,(step+1)*np.pi,seq_length+1)\n",
    "        data=np.sin(time_steps)\n",
    "        data.resize((seq_length+1,1))\n",
    "        \n",
    "        x=data[:-1]\n",
    "        y=data[1:]\n",
    "        \n",
    "        x_tensor=torch.Tensor(x).unsqueeze(0)\n",
    "        y_tensor=torch.Tensor(y)\n",
    "        \n",
    "        prediction, hidden =rnn(x_tensor,hidden)\n",
    "        \n",
    "        hidden=hidden.data\n",
    "        \n",
    "        loss=criterion(prediction,y_tensor)\n",
    "        optimizer.zero_grad()\n",
    "        loss.backward()\n",
    "        optimizer.step()\n",
    "        \n",
    "        if batch_i%print_every==0:\n",
    "            print('Loss:', loss.item())\n",
    "            plt.plot(time_steps[1:],x,'r.')\n",
    "            plt.plot(time_steps[1:],prediction.data.numpy().flatten(),'b.')\n",
    "            plt.show()\n",
    "            \n",
    "    return rnn"
   ]
  },
  {
   "cell_type": "code",
   "execution_count": 30,
   "metadata": {},
   "outputs": [
    {
     "name": "stdout",
     "output_type": "stream",
     "text": [
      "Loss: 0.2730938494205475\n"
     ]
    },
    {
     "data": {
      "image/png": "[encoded data removed]",
      "text/plain": [
       "<Figure size 432x288 with 1 Axes>"
      ]
     },
     "metadata": {},
     "output_type": "display_data"
    },
    {
     "name": "stdout",
     "output_type": "stream",
     "text": [
      "Loss: 0.0761517584323883\n"
     ]
    },
    {
     "data": {
      "image/png": "[encoded data removed]",
      "text/plain": [
       "<Figure size 432x288 with 1 Axes>"
      ]
     },
     "metadata": {},
     "output_type": "display_data"
    },
    {
     "name": "stdout",
     "output_type": "stream",
     "text": [
      "Loss: 0.010242343880236149\n"
     ]
    },
    {
     "data": {
      "image/png": "[encoded data removed]",
      "text/plain": [
       "<Figure size 432x288 with 1 Axes>"
      ]
     },
     "metadata": {},
     "output_type": "display_data"
    },
    {
     "name": "stdout",
     "output_type": "stream",
     "text": [
      "Loss: 0.0019087024265900254\n"
     ]
    },
    {
     "data": {
      "image/png": "[encoded data removed]",
      "text/plain": [
       "<Figure size 432x288 with 1 Axes>"
      ]
     },
     "metadata": {},
     "output_type": "display_data"
    },
    {
     "name": "stdout",
     "output_type": "stream",
     "text": [
      "Loss: 0.0008478478412143886\n"
     ]
    },
    {
     "data": {
      "image/png": "[encoded data removed]",
      "text/plain": [
       "<Figure size 432x288 with 1 Axes>"
      ]
     },
     "metadata": {},
     "output_type": "display_data"
    }
   ],
   "source": [
    "n_steps=75\n",
    "\n",
    "print_every=15\n",
    "\n",
    "trained_rnn=train(rnn, n_steps,print_every)"
   ]
  },
  {
   "cell_type": "code",
   "execution_count": null,
   "metadata": {},
   "outputs": [],
   "source": []
  }
 ],
 "metadata": {
  "kernelspec": {
   "display_name": "Python 3",
   "language": "python",
   "name": "python3"
  },
  "language_info": {
   "codemirror_mode": {
    "name": "ipython",
    "version": 3
   },
   "file_extension": ".py",
   "mimetype": "text/x-python",
   "name": "python",
   "nbconvert_exporter": "python",
   "pygments_lexer": "ipython3",
   "version": "3.6.5"
  }
 },
 "nbformat": 4,
 "nbformat_minor": 2
}
